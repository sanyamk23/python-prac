{
 "cells": [
  {
   "cell_type": "code",
   "execution_count": 1,
   "metadata": {},
   "outputs": [
    {
     "name": "stdout",
     "output_type": "stream",
     "text": [
      "Car start\n"
     ]
    }
   ],
   "source": [
    "class Car:\n",
    "    def start(self):\n",
    "        print(\"Car start\")\n",
    "bmw=Car()\n",
    "bmw.start()"
   ]
  },
  {
   "cell_type": "code",
   "execution_count": 2,
   "metadata": {},
   "outputs": [
    {
     "name": "stdout",
     "output_type": "stream",
     "text": [
      "Car start\n",
      "BMW\n",
      "<__main__.Car object at 0x000001A1B1C3BE00>\n",
      "Car start\n",
      "Audi\n",
      "<__main__.Car object at 0x000001A1B1D79F70>\n"
     ]
    }
   ],
   "source": [
    "class Car:\n",
    "    def __init__(self , name): #constructor function with any number of parameters\n",
    "        self.name = name\n",
    "    def start(self):\n",
    "        print(\"Car start\")\n",
    "        print(self.name)\n",
    "    def print_inst(self):\n",
    "        print(self) #print addresses\n",
    "        \n",
    "bmw = Car(\"BMW\")\n",
    "bmw.start()\n",
    "bmw.print_inst()\n",
    "\n",
    "audi = Car(\"Audi\")\n",
    "audi.start()\n",
    "audi.print_inst()"
   ]
  },
  {
   "cell_type": "code",
   "execution_count": 3,
   "metadata": {},
   "outputs": [
    {
     "name": "stdout",
     "output_type": "stream",
     "text": [
      "Name : Sanyam with Age : 20\n",
      "Name : Sparsh with Age : 15\n"
     ]
    }
   ],
   "source": [
    "class Human:\n",
    "    def __init__(self , name , age):\n",
    "        self.name = name\n",
    "        self.age = age\n",
    "    def display(self):\n",
    "        print(f\"Name : {self.name} with Age : {self.age}\")\n",
    "        \n",
    "p1 = Human(\"Sanyam\" , 20)\n",
    "p1.display()\n",
    "p2 = Human(\"Sparsh\" , 15)\n",
    "p2.display()"
   ]
  },
  {
   "cell_type": "code",
   "execution_count": 4,
   "metadata": {},
   "outputs": [
    {
     "name": "stdout",
     "output_type": "stream",
     "text": [
      "Name : Sanyam with Age : 20\n",
      "Name : Sparsh with Age : 15\n",
      "<class '__main__.Student'>\n",
      "Student is Laksh\n",
      "<class 'type'>\n",
      "This is Laksh of 20\n"
     ]
    }
   ],
   "source": [
    "class Human:\n",
    "    def __init__(self , name , age):\n",
    "        self.name = name\n",
    "        self.age = age\n",
    "    def display(self):\n",
    "        print(f\"Name : {self.name} with Age : {self.age}\")\n",
    "        \n",
    "p1 = Human(\"Sanyam\" , 20)\n",
    "p1.display()\n",
    "p2 = Human(\"Sparsh\" , 15)\n",
    "p2.display()\n",
    "\n",
    "class Student(Human):\n",
    "    def fun1(self):\n",
    "        print(f\"Student is {self.name}\")\n",
    "        print(type(Human))\n",
    "    def display(self , year ):\n",
    "        print(f\"This is {self.name} of {year}\")\n",
    "        \n",
    "laksh = Student(\"Laksh\", 20)\n",
    "print(type(laksh))\n",
    "laksh.fun1()\n",
    "laksh.display(20)"
   ]
  },
  {
   "cell_type": "code",
   "execution_count": 12,
   "metadata": {},
   "outputs": [
    {
     "name": "stdout",
     "output_type": "stream",
     "text": [
      "Name : Sanyam with Age : 20\n",
      "Name : Sparsh with Age : 15\n",
      "<class '__main__.Student'>\n",
      "Student is Laksh\n",
      "<class 'type'>\n",
      "This is Laksh of \n"
     ]
    }
   ],
   "source": [
    "class Human:\n",
    "    def __init__(self , name , age):\n",
    "        self.name = name\n",
    "        self.age = age\n",
    "    def display(self):\n",
    "        print(f\"Name : {self.name} with Age : {self.age}\")\n",
    "        \n",
    "p1 = Human(\"Sanyam\" , 20)\n",
    "p1.display()\n",
    "p2 = Human(\"Sparsh\" , 15)\n",
    "p2.display()\n",
    "\n",
    "class Student(Human):\n",
    "    def fun1(self):\n",
    "        print(f\"Student is {self.name}\")\n",
    "        print(type(Human))\n",
    "    def display(self , *args, **kwargs):\n",
    "        print(f\"This is {self.name} of \")\n",
    "        \n",
    "laksh = Student(\"Laksh\", 20)\n",
    "print(type(laksh))\n",
    "laksh.fun1()\n",
    "laksh.display(name=\"Laksh\")"
   ]
  }
 ],
 "metadata": {
  "kernelspec": {
   "display_name": "Python 3",
   "language": "python",
   "name": "python3"
  },
  "language_info": {
   "codemirror_mode": {
    "name": "ipython",
    "version": 3
   },
   "file_extension": ".py",
   "mimetype": "text/x-python",
   "name": "python",
   "nbconvert_exporter": "python",
   "pygments_lexer": "ipython3",
   "version": "3.12.1"
  }
 },
 "nbformat": 4,
 "nbformat_minor": 2
}
